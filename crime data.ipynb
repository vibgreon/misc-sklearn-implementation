{
 "cells": [
  {
   "cell_type": "markdown",
   "id": "898b7391",
   "metadata": {},
   "source": [
    "Steps for building a ML Model\n",
    "- import the estimator (model)\n",
    "- create an instance of the estimator\n",
    "- use the training data to train the estimator\n",
    "- evaluate the model\n",
    "- make prediction"
   ]
  },
  {
   "cell_type": "markdown",
   "id": "089daf24",
   "metadata": {},
   "source": [
    "## Data Preparation"
   ]
  },
  {
   "cell_type": "code",
   "execution_count": 3,
   "id": "b690f2d0",
   "metadata": {},
   "outputs": [],
   "source": [
    "import numpy as np\n",
    "import pandas as pd\n",
    "import matplotlib.pyplot as plt\n",
    "%matplotlib inline"
   ]
  },
  {
   "cell_type": "code",
   "execution_count": 4,
   "id": "635458ce",
   "metadata": {},
   "outputs": [],
   "source": [
    "header = []\n",
    "with open(\"communities.names\",\"r\") as f:\n",
    "    for line in f:\n",
    "        if line.startswith('@attribute '):\n",
    "            word = line.split(' ')\n",
    "            header.append(word[1])"
   ]
  },
  {
   "cell_type": "code",
   "execution_count": 5,
   "id": "4d598693",
   "metadata": {},
   "outputs": [],
   "source": [
    "data_url = 'https://archive.ics.uci.edu/ml/machine-learning-databases/communities/communities.data'\n",
    "crime = pd.read_csv('communities.data', header=None, names= header ,na_values='?', index_col='communityname')"
   ]
  },
  {
   "cell_type": "code",
   "execution_count": 6,
   "id": "d0d2ea0e",
   "metadata": {},
   "outputs": [
    {
     "data": {
      "text/html": [
       "<div>\n",
       "<style scoped>\n",
       "    .dataframe tbody tr th:only-of-type {\n",
       "        vertical-align: middle;\n",
       "    }\n",
       "\n",
       "    .dataframe tbody tr th {\n",
       "        vertical-align: top;\n",
       "    }\n",
       "\n",
       "    .dataframe thead th {\n",
       "        text-align: right;\n",
       "    }\n",
       "</style>\n",
       "<table border=\"1\" class=\"dataframe\">\n",
       "  <thead>\n",
       "    <tr style=\"text-align: right;\">\n",
       "      <th></th>\n",
       "      <th>state</th>\n",
       "      <th>county</th>\n",
       "      <th>community</th>\n",
       "      <th>fold</th>\n",
       "      <th>population</th>\n",
       "      <th>householdsize</th>\n",
       "      <th>racepctblack</th>\n",
       "      <th>racePctWhite</th>\n",
       "      <th>racePctAsian</th>\n",
       "      <th>racePctHisp</th>\n",
       "      <th>...</th>\n",
       "      <th>LandArea</th>\n",
       "      <th>PopDens</th>\n",
       "      <th>PctUsePubTrans</th>\n",
       "      <th>PolicCars</th>\n",
       "      <th>PolicOperBudg</th>\n",
       "      <th>LemasPctPolicOnPatr</th>\n",
       "      <th>LemasGangUnitDeploy</th>\n",
       "      <th>LemasPctOfficDrugUn</th>\n",
       "      <th>PolicBudgPerPop</th>\n",
       "      <th>ViolentCrimesPerPop</th>\n",
       "    </tr>\n",
       "    <tr>\n",
       "      <th>communityname</th>\n",
       "      <th></th>\n",
       "      <th></th>\n",
       "      <th></th>\n",
       "      <th></th>\n",
       "      <th></th>\n",
       "      <th></th>\n",
       "      <th></th>\n",
       "      <th></th>\n",
       "      <th></th>\n",
       "      <th></th>\n",
       "      <th></th>\n",
       "      <th></th>\n",
       "      <th></th>\n",
       "      <th></th>\n",
       "      <th></th>\n",
       "      <th></th>\n",
       "      <th></th>\n",
       "      <th></th>\n",
       "      <th></th>\n",
       "      <th></th>\n",
       "      <th></th>\n",
       "    </tr>\n",
       "  </thead>\n",
       "  <tbody>\n",
       "    <tr>\n",
       "      <th>Lakewoodcity</th>\n",
       "      <td>8</td>\n",
       "      <td>NaN</td>\n",
       "      <td>NaN</td>\n",
       "      <td>1</td>\n",
       "      <td>0.19</td>\n",
       "      <td>0.33</td>\n",
       "      <td>0.02</td>\n",
       "      <td>0.90</td>\n",
       "      <td>0.12</td>\n",
       "      <td>0.17</td>\n",
       "      <td>...</td>\n",
       "      <td>0.12</td>\n",
       "      <td>0.26</td>\n",
       "      <td>0.20</td>\n",
       "      <td>0.06</td>\n",
       "      <td>0.04</td>\n",
       "      <td>0.9</td>\n",
       "      <td>0.5</td>\n",
       "      <td>0.32</td>\n",
       "      <td>0.14</td>\n",
       "      <td>0.20</td>\n",
       "    </tr>\n",
       "    <tr>\n",
       "      <th>Tukwilacity</th>\n",
       "      <td>53</td>\n",
       "      <td>NaN</td>\n",
       "      <td>NaN</td>\n",
       "      <td>1</td>\n",
       "      <td>0.00</td>\n",
       "      <td>0.16</td>\n",
       "      <td>0.12</td>\n",
       "      <td>0.74</td>\n",
       "      <td>0.45</td>\n",
       "      <td>0.07</td>\n",
       "      <td>...</td>\n",
       "      <td>0.02</td>\n",
       "      <td>0.12</td>\n",
       "      <td>0.45</td>\n",
       "      <td>NaN</td>\n",
       "      <td>NaN</td>\n",
       "      <td>NaN</td>\n",
       "      <td>NaN</td>\n",
       "      <td>0.00</td>\n",
       "      <td>NaN</td>\n",
       "      <td>0.67</td>\n",
       "    </tr>\n",
       "    <tr>\n",
       "      <th>Aberdeentown</th>\n",
       "      <td>24</td>\n",
       "      <td>NaN</td>\n",
       "      <td>NaN</td>\n",
       "      <td>1</td>\n",
       "      <td>0.00</td>\n",
       "      <td>0.42</td>\n",
       "      <td>0.49</td>\n",
       "      <td>0.56</td>\n",
       "      <td>0.17</td>\n",
       "      <td>0.04</td>\n",
       "      <td>...</td>\n",
       "      <td>0.01</td>\n",
       "      <td>0.21</td>\n",
       "      <td>0.02</td>\n",
       "      <td>NaN</td>\n",
       "      <td>NaN</td>\n",
       "      <td>NaN</td>\n",
       "      <td>NaN</td>\n",
       "      <td>0.00</td>\n",
       "      <td>NaN</td>\n",
       "      <td>0.43</td>\n",
       "    </tr>\n",
       "    <tr>\n",
       "      <th>Willingborotownship</th>\n",
       "      <td>34</td>\n",
       "      <td>5.0</td>\n",
       "      <td>81440.0</td>\n",
       "      <td>1</td>\n",
       "      <td>0.04</td>\n",
       "      <td>0.77</td>\n",
       "      <td>1.00</td>\n",
       "      <td>0.08</td>\n",
       "      <td>0.12</td>\n",
       "      <td>0.10</td>\n",
       "      <td>...</td>\n",
       "      <td>0.02</td>\n",
       "      <td>0.39</td>\n",
       "      <td>0.28</td>\n",
       "      <td>NaN</td>\n",
       "      <td>NaN</td>\n",
       "      <td>NaN</td>\n",
       "      <td>NaN</td>\n",
       "      <td>0.00</td>\n",
       "      <td>NaN</td>\n",
       "      <td>0.12</td>\n",
       "    </tr>\n",
       "    <tr>\n",
       "      <th>Bethlehemtownship</th>\n",
       "      <td>42</td>\n",
       "      <td>95.0</td>\n",
       "      <td>6096.0</td>\n",
       "      <td>1</td>\n",
       "      <td>0.01</td>\n",
       "      <td>0.55</td>\n",
       "      <td>0.02</td>\n",
       "      <td>0.95</td>\n",
       "      <td>0.09</td>\n",
       "      <td>0.05</td>\n",
       "      <td>...</td>\n",
       "      <td>0.04</td>\n",
       "      <td>0.09</td>\n",
       "      <td>0.02</td>\n",
       "      <td>NaN</td>\n",
       "      <td>NaN</td>\n",
       "      <td>NaN</td>\n",
       "      <td>NaN</td>\n",
       "      <td>0.00</td>\n",
       "      <td>NaN</td>\n",
       "      <td>0.03</td>\n",
       "    </tr>\n",
       "  </tbody>\n",
       "</table>\n",
       "<p>5 rows × 127 columns</p>\n",
       "</div>"
      ],
      "text/plain": [
       "                     state  county  community  fold  population  \\\n",
       "communityname                                                     \n",
       "Lakewoodcity             8     NaN        NaN     1        0.19   \n",
       "Tukwilacity             53     NaN        NaN     1        0.00   \n",
       "Aberdeentown            24     NaN        NaN     1        0.00   \n",
       "Willingborotownship     34     5.0    81440.0     1        0.04   \n",
       "Bethlehemtownship       42    95.0     6096.0     1        0.01   \n",
       "\n",
       "                     householdsize  racepctblack  racePctWhite  racePctAsian  \\\n",
       "communityname                                                                  \n",
       "Lakewoodcity                  0.33          0.02          0.90          0.12   \n",
       "Tukwilacity                   0.16          0.12          0.74          0.45   \n",
       "Aberdeentown                  0.42          0.49          0.56          0.17   \n",
       "Willingborotownship           0.77          1.00          0.08          0.12   \n",
       "Bethlehemtownship             0.55          0.02          0.95          0.09   \n",
       "\n",
       "                     racePctHisp  ...  LandArea  PopDens  PctUsePubTrans  \\\n",
       "communityname                     ...                                      \n",
       "Lakewoodcity                0.17  ...      0.12     0.26            0.20   \n",
       "Tukwilacity                 0.07  ...      0.02     0.12            0.45   \n",
       "Aberdeentown                0.04  ...      0.01     0.21            0.02   \n",
       "Willingborotownship         0.10  ...      0.02     0.39            0.28   \n",
       "Bethlehemtownship           0.05  ...      0.04     0.09            0.02   \n",
       "\n",
       "                     PolicCars  PolicOperBudg  LemasPctPolicOnPatr  \\\n",
       "communityname                                                        \n",
       "Lakewoodcity              0.06           0.04                  0.9   \n",
       "Tukwilacity                NaN            NaN                  NaN   \n",
       "Aberdeentown               NaN            NaN                  NaN   \n",
       "Willingborotownship        NaN            NaN                  NaN   \n",
       "Bethlehemtownship          NaN            NaN                  NaN   \n",
       "\n",
       "                     LemasGangUnitDeploy  LemasPctOfficDrugUn  \\\n",
       "communityname                                                   \n",
       "Lakewoodcity                         0.5                 0.32   \n",
       "Tukwilacity                          NaN                 0.00   \n",
       "Aberdeentown                         NaN                 0.00   \n",
       "Willingborotownship                  NaN                 0.00   \n",
       "Bethlehemtownship                    NaN                 0.00   \n",
       "\n",
       "                     PolicBudgPerPop  ViolentCrimesPerPop  \n",
       "communityname                                              \n",
       "Lakewoodcity                    0.14                 0.20  \n",
       "Tukwilacity                      NaN                 0.67  \n",
       "Aberdeentown                     NaN                 0.43  \n",
       "Willingborotownship              NaN                 0.12  \n",
       "Bethlehemtownship                NaN                 0.03  \n",
       "\n",
       "[5 rows x 127 columns]"
      ]
     },
     "execution_count": 6,
     "metadata": {},
     "output_type": "execute_result"
    }
   ],
   "source": [
    "crime.head()"
   ]
  },
  {
   "cell_type": "code",
   "execution_count": 7,
   "id": "4667daa6",
   "metadata": {},
   "outputs": [],
   "source": [
    "# file = open('communities.names','r')\n",
    "# print(file.read())"
   ]
  },
  {
   "cell_type": "code",
   "execution_count": 8,
   "id": "10882a75",
   "metadata": {},
   "outputs": [],
   "source": [
    "# with open(\"communities.names\",\"r\") as f:\n",
    "#     for line in f:\n",
    "#         for word in line.split(\" \"):\n",
    "#             print(word)"
   ]
  },
  {
   "cell_type": "code",
   "execution_count": 9,
   "id": "7da41917",
   "metadata": {},
   "outputs": [],
   "source": [
    "feature_names = ['householdsize','pctUrban','medIncome','racepctblack','racePctWhite','racePctAsian','racePctHisp']\n",
    "target_name = 'ViolentCrimesPerPop'"
   ]
  },
  {
   "cell_type": "code",
   "execution_count": 10,
   "id": "a4ef348a",
   "metadata": {},
   "outputs": [],
   "source": [
    "# getting features and the target, sklearn can work directly with\n",
    "\n",
    "X = crime[feature_names]\n",
    "y = crime[target_name]"
   ]
  },
  {
   "cell_type": "code",
   "execution_count": 11,
   "id": "e6cc802b",
   "metadata": {},
   "outputs": [
    {
     "data": {
      "text/plain": [
       "communityname\n",
       "Lakewoodcity           0.20\n",
       "Tukwilacity            0.67\n",
       "Aberdeentown           0.43\n",
       "Willingborotownship    0.12\n",
       "Bethlehemtownship      0.03\n",
       "Name: ViolentCrimesPerPop, dtype: float64"
      ]
     },
     "execution_count": 11,
     "metadata": {},
     "output_type": "execute_result"
    }
   ],
   "source": [
    "y.head()"
   ]
  },
  {
   "cell_type": "code",
   "execution_count": 14,
   "id": "abb738b7",
   "metadata": {},
   "outputs": [
    {
     "data": {
      "text/html": [
       "<div>\n",
       "<style scoped>\n",
       "    .dataframe tbody tr th:only-of-type {\n",
       "        vertical-align: middle;\n",
       "    }\n",
       "\n",
       "    .dataframe tbody tr th {\n",
       "        vertical-align: top;\n",
       "    }\n",
       "\n",
       "    .dataframe thead th {\n",
       "        text-align: right;\n",
       "    }\n",
       "</style>\n",
       "<table border=\"1\" class=\"dataframe\">\n",
       "  <thead>\n",
       "    <tr style=\"text-align: right;\">\n",
       "      <th></th>\n",
       "      <th>householdsize</th>\n",
       "      <th>pctUrban</th>\n",
       "      <th>medIncome</th>\n",
       "      <th>racepctblack</th>\n",
       "      <th>racePctWhite</th>\n",
       "      <th>racePctAsian</th>\n",
       "      <th>racePctHisp</th>\n",
       "    </tr>\n",
       "    <tr>\n",
       "      <th>communityname</th>\n",
       "      <th></th>\n",
       "      <th></th>\n",
       "      <th></th>\n",
       "      <th></th>\n",
       "      <th></th>\n",
       "      <th></th>\n",
       "      <th></th>\n",
       "    </tr>\n",
       "  </thead>\n",
       "  <tbody>\n",
       "    <tr>\n",
       "      <th>Lakewoodcity</th>\n",
       "      <td>0.33</td>\n",
       "      <td>1.0</td>\n",
       "      <td>0.37</td>\n",
       "      <td>0.02</td>\n",
       "      <td>0.90</td>\n",
       "      <td>0.12</td>\n",
       "      <td>0.17</td>\n",
       "    </tr>\n",
       "    <tr>\n",
       "      <th>Tukwilacity</th>\n",
       "      <td>0.16</td>\n",
       "      <td>1.0</td>\n",
       "      <td>0.31</td>\n",
       "      <td>0.12</td>\n",
       "      <td>0.74</td>\n",
       "      <td>0.45</td>\n",
       "      <td>0.07</td>\n",
       "    </tr>\n",
       "    <tr>\n",
       "      <th>Aberdeentown</th>\n",
       "      <td>0.42</td>\n",
       "      <td>0.0</td>\n",
       "      <td>0.30</td>\n",
       "      <td>0.49</td>\n",
       "      <td>0.56</td>\n",
       "      <td>0.17</td>\n",
       "      <td>0.04</td>\n",
       "    </tr>\n",
       "    <tr>\n",
       "      <th>Willingborotownship</th>\n",
       "      <td>0.77</td>\n",
       "      <td>1.0</td>\n",
       "      <td>0.58</td>\n",
       "      <td>1.00</td>\n",
       "      <td>0.08</td>\n",
       "      <td>0.12</td>\n",
       "      <td>0.10</td>\n",
       "    </tr>\n",
       "    <tr>\n",
       "      <th>Bethlehemtownship</th>\n",
       "      <td>0.55</td>\n",
       "      <td>0.9</td>\n",
       "      <td>0.50</td>\n",
       "      <td>0.02</td>\n",
       "      <td>0.95</td>\n",
       "      <td>0.09</td>\n",
       "      <td>0.05</td>\n",
       "    </tr>\n",
       "  </tbody>\n",
       "</table>\n",
       "</div>"
      ],
      "text/plain": [
       "                     householdsize  pctUrban  medIncome  racepctblack  \\\n",
       "communityname                                                           \n",
       "Lakewoodcity                  0.33       1.0       0.37          0.02   \n",
       "Tukwilacity                   0.16       1.0       0.31          0.12   \n",
       "Aberdeentown                  0.42       0.0       0.30          0.49   \n",
       "Willingborotownship           0.77       1.0       0.58          1.00   \n",
       "Bethlehemtownship             0.55       0.9       0.50          0.02   \n",
       "\n",
       "                     racePctWhite  racePctAsian  racePctHisp  \n",
       "communityname                                                 \n",
       "Lakewoodcity                 0.90          0.12         0.17  \n",
       "Tukwilacity                  0.74          0.45         0.07  \n",
       "Aberdeentown                 0.56          0.17         0.04  \n",
       "Willingborotownship          0.08          0.12         0.10  \n",
       "Bethlehemtownship            0.95          0.09         0.05  "
      ]
     },
     "execution_count": 14,
     "metadata": {},
     "output_type": "execute_result"
    }
   ],
   "source": [
    "X.head()"
   ]
  },
  {
   "cell_type": "markdown",
   "id": "48429190",
   "metadata": {},
   "source": [
    "## split the data into: training and testing (cross validation)"
   ]
  },
  {
   "cell_type": "code",
   "execution_count": 15,
   "id": "c8aa3a72",
   "metadata": {},
   "outputs": [],
   "source": [
    "from sklearn.model_selection import train_test_split\n",
    "X_train, X_test, y_train, y_test = train_test_split(X, y, test_size= 0.2, random_state=123)"
   ]
  },
  {
   "cell_type": "markdown",
   "id": "d54e2edd",
   "metadata": {},
   "source": [
    "- Now the data is ready"
   ]
  },
  {
   "cell_type": "markdown",
   "id": "e37dcb96",
   "metadata": {},
   "source": [
    "#### 1. Import the estimator object (model)"
   ]
  },
  {
   "cell_type": "code",
   "execution_count": 16,
   "id": "7dade8f4",
   "metadata": {},
   "outputs": [],
   "source": [
    "from sklearn.linear_model import LinearRegression"
   ]
  },
  {
   "cell_type": "markdown",
   "id": "281bdb78",
   "metadata": {},
   "source": [
    "#### 2. Create instance of the estimator"
   ]
  },
  {
   "cell_type": "code",
   "execution_count": 17,
   "id": "0523379c",
   "metadata": {},
   "outputs": [],
   "source": [
    "linear_regression_model = LinearRegression()"
   ]
  },
  {
   "cell_type": "markdown",
   "id": "861bc20d",
   "metadata": {},
   "source": [
    "#### 3. Use training data to train the model / fit data in model"
   ]
  },
  {
   "cell_type": "code",
   "execution_count": 18,
   "id": "5b3ac714",
   "metadata": {
    "scrolled": true
   },
   "outputs": [
    {
     "data": {
      "text/html": [
       "<style>#sk-container-id-1 {color: black;background-color: white;}#sk-container-id-1 pre{padding: 0;}#sk-container-id-1 div.sk-toggleable {background-color: white;}#sk-container-id-1 label.sk-toggleable__label {cursor: pointer;display: block;width: 100%;margin-bottom: 0;padding: 0.3em;box-sizing: border-box;text-align: center;}#sk-container-id-1 label.sk-toggleable__label-arrow:before {content: \"▸\";float: left;margin-right: 0.25em;color: #696969;}#sk-container-id-1 label.sk-toggleable__label-arrow:hover:before {color: black;}#sk-container-id-1 div.sk-estimator:hover label.sk-toggleable__label-arrow:before {color: black;}#sk-container-id-1 div.sk-toggleable__content {max-height: 0;max-width: 0;overflow: hidden;text-align: left;background-color: #f0f8ff;}#sk-container-id-1 div.sk-toggleable__content pre {margin: 0.2em;color: black;border-radius: 0.25em;background-color: #f0f8ff;}#sk-container-id-1 input.sk-toggleable__control:checked~div.sk-toggleable__content {max-height: 200px;max-width: 100%;overflow: auto;}#sk-container-id-1 input.sk-toggleable__control:checked~label.sk-toggleable__label-arrow:before {content: \"▾\";}#sk-container-id-1 div.sk-estimator input.sk-toggleable__control:checked~label.sk-toggleable__label {background-color: #d4ebff;}#sk-container-id-1 div.sk-label input.sk-toggleable__control:checked~label.sk-toggleable__label {background-color: #d4ebff;}#sk-container-id-1 input.sk-hidden--visually {border: 0;clip: rect(1px 1px 1px 1px);clip: rect(1px, 1px, 1px, 1px);height: 1px;margin: -1px;overflow: hidden;padding: 0;position: absolute;width: 1px;}#sk-container-id-1 div.sk-estimator {font-family: monospace;background-color: #f0f8ff;border: 1px dotted black;border-radius: 0.25em;box-sizing: border-box;margin-bottom: 0.5em;}#sk-container-id-1 div.sk-estimator:hover {background-color: #d4ebff;}#sk-container-id-1 div.sk-parallel-item::after {content: \"\";width: 100%;border-bottom: 1px solid gray;flex-grow: 1;}#sk-container-id-1 div.sk-label:hover label.sk-toggleable__label {background-color: #d4ebff;}#sk-container-id-1 div.sk-serial::before {content: \"\";position: absolute;border-left: 1px solid gray;box-sizing: border-box;top: 0;bottom: 0;left: 50%;z-index: 0;}#sk-container-id-1 div.sk-serial {display: flex;flex-direction: column;align-items: center;background-color: white;padding-right: 0.2em;padding-left: 0.2em;position: relative;}#sk-container-id-1 div.sk-item {position: relative;z-index: 1;}#sk-container-id-1 div.sk-parallel {display: flex;align-items: stretch;justify-content: center;background-color: white;position: relative;}#sk-container-id-1 div.sk-item::before, #sk-container-id-1 div.sk-parallel-item::before {content: \"\";position: absolute;border-left: 1px solid gray;box-sizing: border-box;top: 0;bottom: 0;left: 50%;z-index: -1;}#sk-container-id-1 div.sk-parallel-item {display: flex;flex-direction: column;z-index: 1;position: relative;background-color: white;}#sk-container-id-1 div.sk-parallel-item:first-child::after {align-self: flex-end;width: 50%;}#sk-container-id-1 div.sk-parallel-item:last-child::after {align-self: flex-start;width: 50%;}#sk-container-id-1 div.sk-parallel-item:only-child::after {width: 0;}#sk-container-id-1 div.sk-dashed-wrapped {border: 1px dashed gray;margin: 0 0.4em 0.5em 0.4em;box-sizing: border-box;padding-bottom: 0.4em;background-color: white;}#sk-container-id-1 div.sk-label label {font-family: monospace;font-weight: bold;display: inline-block;line-height: 1.2em;}#sk-container-id-1 div.sk-label-container {text-align: center;}#sk-container-id-1 div.sk-container {/* jupyter's `normalize.less` sets `[hidden] { display: none; }` but bootstrap.min.css set `[hidden] { display: none !important; }` so we also need the `!important` here to be able to override the default hidden behavior on the sphinx rendered scikit-learn.org. See: https://github.com/scikit-learn/scikit-learn/issues/21755 */display: inline-block !important;position: relative;}#sk-container-id-1 div.sk-text-repr-fallback {display: none;}</style><div id=\"sk-container-id-1\" class=\"sk-top-container\"><div class=\"sk-text-repr-fallback\"><pre>LinearRegression()</pre><b>In a Jupyter environment, please rerun this cell to show the HTML representation or trust the notebook. <br />On GitHub, the HTML representation is unable to render, please try loading this page with nbviewer.org.</b></div><div class=\"sk-container\" hidden><div class=\"sk-item\"><div class=\"sk-estimator sk-toggleable\"><input class=\"sk-toggleable__control sk-hidden--visually\" id=\"sk-estimator-id-1\" type=\"checkbox\" checked><label for=\"sk-estimator-id-1\" class=\"sk-toggleable__label sk-toggleable__label-arrow\">LinearRegression</label><div class=\"sk-toggleable__content\"><pre>LinearRegression()</pre></div></div></div></div></div>"
      ],
      "text/plain": [
       "LinearRegression()"
      ]
     },
     "execution_count": 18,
     "metadata": {},
     "output_type": "execute_result"
    }
   ],
   "source": [
    "linear_regression_model.fit(X_train, y_train)"
   ]
  },
  {
   "cell_type": "markdown",
   "id": "49199347",
   "metadata": {},
   "source": [
    "#### 4. Evaluate the model"
   ]
  },
  {
   "cell_type": "code",
   "execution_count": 23,
   "id": "c4d061ce",
   "metadata": {},
   "outputs": [
    {
     "name": "stdout",
     "output_type": "stream",
     "text": [
      "The mean Square Error of this model is: 0.02451512610564626\n"
     ]
    }
   ],
   "source": [
    "from sklearn.metrics import mean_squared_error\n",
    "\n",
    "# get predictions of the model from the data it has not seen (test dataset)\n",
    "y_pred_test = linear_regression_model.predict(X_test)\n",
    "\n",
    "#metrics compare in some way how close are the predicted vs the actual values are\n",
    "error_matric = mean_squared_error(y_pred_test,y_test)\n",
    "print('The mean Square Error of this model is:', error_matric)"
   ]
  },
  {
   "cell_type": "code",
   "execution_count": 26,
   "id": "2dcca12d",
   "metadata": {},
   "outputs": [
    {
     "data": {
      "text/plain": [
       "Text(0.5, 1.0, 'predicted vs actual values')"
      ]
     },
     "execution_count": 26,
     "metadata": {},
     "output_type": "execute_result"
    },
    {
     "data": {
      "image/png": "[encoded data removed]",
      "text/plain": [
       "<Figure size 432x288 with 1 Axes>"
      ]
     },
     "metadata": {
      "needs_background": "light"
     },
     "output_type": "display_data"
    }
   ],
   "source": [
    "fig, ax = plt.subplots()\n",
    "ax.scatter(y_test, y_pred_test)\n",
    "ax.plot(y_test, y_test, 'r')\n",
    "\n",
    "ax.set_xlabel('Testing target values')\n",
    "ax.set_ylabel('Predicting target values')\n",
    "ax.set_title('predicted vs actual values')"
   ]
  },
  {
   "cell_type": "markdown",
   "id": "72d24a86",
   "metadata": {},
   "source": [
    "#### 5. Make Predictions"
   ]
  },
  {
   "cell_type": "code",
   "execution_count": 27,
   "id": "3a16cb2a",
   "metadata": {},
   "outputs": [],
   "source": [
    "from collections import OrderedDict"
   ]
  },
  {
   "cell_type": "code",
   "execution_count": 31,
   "id": "8aa6acea",
   "metadata": {
    "scrolled": true
   },
   "outputs": [
    {
     "name": "stderr",
     "output_type": "stream",
     "text": [
      "C:\\Users\\zatha\\AppData\\Local\\Programs\\Python\\Python310\\lib\\site-packages\\sklearn\\base.py:450: UserWarning: X does not have valid feature names, but LinearRegression was fitted with feature names\n",
      "  warnings.warn(\n"
     ]
    },
    {
     "data": {
      "text/plain": [
       "array([0.30466662])"
      ]
     },
     "execution_count": 31,
     "metadata": {},
     "output_type": "execute_result"
    }
   ],
   "source": [
    "new_data = OrderedDict([\n",
    "    ('householdsize',0.5),\n",
    "    ('pctUrban',0.6),\n",
    "    ('medIncome',0.1),\n",
    "    ('racepctblack',0.1),\n",
    "    ('racePctWhite',0.6),\n",
    "    ('racePctAsian',0.1),\n",
    "    ('racePctHisp',0.2)\n",
    "])\n",
    "\n",
    "# reshaping to make it 2D, because we passed only one new observation\n",
    "new_data = pd.Series(new_data).values.reshape(1,-1)\n",
    "\n",
    "# use the model to make prediction\n",
    "linear_regression_model.predict(new_data)"
   ]
  },
  {
   "cell_type": "markdown",
   "id": "1f6dfbd8",
   "metadata": {},
   "source": [
    "For a city with data such as above, our model predicts a target value of 0.30466662"
   ]
  },
  {
   "cell_type": "code",
   "execution_count": null,
   "id": "b9db11ee",
   "metadata": {},
   "outputs": [],
   "source": []
  }
 ],
 "metadata": {
  "kernelspec": {
   "display_name": "Python 3 (ipykernel)",
   "language": "python",
   "name": "python3"
  },
  "language_info": {
   "codemirror_mode": {
    "name": "ipython",
    "version": 3
   },
   "file_extension": ".py",
   "mimetype": "text/x-python",
   "name": "python",
   "nbconvert_exporter": "python",
   "pygments_lexer": "ipython3",
   "version": "3.10.5"
  }
 },
 "nbformat": 4,
 "nbformat_minor": 5
}
